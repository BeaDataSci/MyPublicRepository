{
 "cells": [
  {
   "cell_type": "markdown",
   "id": "e8851438-d652-4a11-b983-eef172052941",
   "metadata": {},
   "source": [
    "# Data Science Tools and Ecosystems"
   ]
  },
  {
   "cell_type": "markdown",
   "id": "b6b2de08-8ed2-4f23-8fed-436e3154175e",
   "metadata": {
    "tags": []
   },
   "source": [
    "In this notebook, Data Science Tools and Ecosystem are summarized"
   ]
  },
  {
   "cell_type": "markdown",
   "id": "1b619182-643a-45c8-9ed8-d3b4c3d3dea1",
   "metadata": {},
   "source": [
    "**Objectives:**\n",
    "\n",
    "<ul>\n",
    "    <li>Headings</li>\n",
    "    <li>Blockquotes</li>\n",
    "    <li>Code Section</li>\n",
    "    <li>Bold and Italic</li>\n",
    "    <li>Lists</li>\n",
    "    <li>Tables</li>\n",
    "    <li>Links</li>\n",
    "</ul>"
   ]
  },
  {
   "cell_type": "markdown",
   "id": "97b409aa-0ff3-42e5-8a0b-84e21cd6d2f1",
   "metadata": {},
   "source": [
    "Some of the popular languages that Data Scientists use are:\n",
    "1. Python\n",
    "2. R\n",
    "3. SQL\n",
    "4. Julia"
   ]
  },
  {
   "cell_type": "markdown",
   "id": "a2544cdf-dedf-4dbb-ab2a-3105ebf82d1b",
   "metadata": {},
   "source": [
    "Some of the commonly used libraries used by Data Scientists include:\n",
    "1. Python:\n",
    "    - pandas: data manipulation and analysis.\n",
    "    - NumPy: numerical computing and array operations.\n",
    "    - SciPy: scientific computing and technical computing.\n",
    "    - matplotlib: data visualization.\n",
    "2. R:\n",
    "    - ggplot2: data visualization.\n",
    "    - dplyr: data manipulation.\n",
    "    - tidyr: data tidying.\n",
    "    - caret: machine learning and predictive modeling.\n",
    "3. SQL:\n",
    "    - SQLAlchemy (Python): SQL toolkit and Object-Relational Mapping (ORM).\n",
    "    - PandasQL (Python): Allows SQL queries on pandas DataFrames.\n",
    "    - sqldf (R): Run SQL statements on R data frames.\n",
    "4. Julia:\n",
    "    - DataFrames.jl: data manipulation.\n",
    "    - Plots.jl: data visualization.\n",
    "    - Flux.jl: machine learning.\n",
    "    - MLJ.jl: machine learning framework."
   ]
  },
  {
   "cell_type": "markdown",
   "id": "fc2284fd-4c61-47f6-9ffd-5710c3dde001",
   "metadata": {},
   "source": [
    "| Data Science Tools |\n",
    "| --- |\n",
    "| Jupyter Notebook |\n",
    "| RStudio |\n",
    "| Visual Studio Code |"
   ]
  },
  {
   "cell_type": "markdown",
   "id": "e553aa58-ba9e-4a04-9732-e301aa4e80b7",
   "metadata": {
    "tags": []
   },
   "source": [
    "### Below are a few examples of evaluating arithmetic expressions in Python"
   ]
  },
  {
   "cell_type": "code",
   "execution_count": 11,
   "id": "a37c307c-891b-4e37-8427-56912cbc2ef6",
   "metadata": {
    "tags": []
   },
   "outputs": [
    {
     "data": {
      "text/plain": [
       "17"
      ]
     },
     "execution_count": 11,
     "metadata": {},
     "output_type": "execute_result"
    }
   ],
   "source": [
    "# This is a simple arithmetic expressions to multiply then add integers\n",
    "(3 * 4) + 5"
   ]
  },
  {
   "cell_type": "code",
   "execution_count": 12,
   "id": "a2245c32-2d28-49f1-aa39-a75b823fe7ec",
   "metadata": {
    "tags": []
   },
   "outputs": [
    {
     "name": "stdout",
     "output_type": "stream",
     "text": [
      "3.33 hours\n"
     ]
    }
   ],
   "source": [
    "# This will convert 200 minutes to hours by diving by 60\n",
    "minutes = 200\n",
    "hours = minutes / 60\n",
    "result = round(hours, 2)\n",
    "print(f\"{result} hours\")"
   ]
  },
  {
   "cell_type": "markdown",
   "id": "ca762c85-4bff-488c-9666-113989cc5897",
   "metadata": {},
   "source": [
    "## Author\n",
    "Beatriz"
   ]
  }
 ],
 "metadata": {
  "kernelspec": {
   "display_name": "Python",
   "language": "python",
   "name": "conda-env-python-py"
  },
  "language_info": {
   "codemirror_mode": {
    "name": "ipython",
    "version": 3
   },
   "file_extension": ".py",
   "mimetype": "text/x-python",
   "name": "python",
   "nbconvert_exporter": "python",
   "pygments_lexer": "ipython3",
   "version": "3.7.12"
  }
 },
 "nbformat": 4,
 "nbformat_minor": 5
}
